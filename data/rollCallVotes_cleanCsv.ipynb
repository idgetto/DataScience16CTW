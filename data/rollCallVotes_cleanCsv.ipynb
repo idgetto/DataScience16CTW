{
 "cells": [
  {
   "cell_type": "code",
   "execution_count": 1,
   "metadata": {
    "collapsed": false
   },
   "outputs": [],
   "source": [
    "import pandas as pd\n",
    "\n",
    "df = pd.read_csv('rollCallVotes_iter4.csv')\n",
    "\n",
    "def clean_subjects(string):\n",
    "    temp = string.split(', u')\n",
    "    res = []\n",
    "    for i in range(0, len(temp)):\n",
    "        if i == 0:\n",
    "            res.append(temp[i][3:-1])\n",
    "        elif i == len(temp)-1:\n",
    "            res.append(temp[i][1:-2])\n",
    "        else:\n",
    "            res.append(temp[i][1:-1])\n",
    "    return res\n",
    "\n",
    "df['subjects'] = df['subjects'].apply(clean_subjects)"
   ]
  },
  {
   "cell_type": "code",
   "execution_count": 2,
   "metadata": {
    "collapsed": false
   },
   "outputs": [
    {
     "name": "stdout",
     "output_type": "stream",
     "text": [
      "51\n",
      "51\n"
     ]
    }
   ],
   "source": [
    "def find_subject_in_bills(subject):\n",
    "    res = []\n",
    "    for i in range(0, len(df.subjects)):\n",
    "        if subject in df.subjects[i]:\n",
    "            res.append(1)\n",
    "        else:\n",
    "            res.append(0)\n",
    "    return res\n",
    "\n",
    "#returns a master list of all subjects and how many times they appear, useful for some plots\n",
    "count_subjects_dict = {}\n",
    "for i in range(0, len(df.subjects)):\n",
    "    for j in range(0, len(df.subjects[i])):\n",
    "        if df.subjects[i][j] in count_subjects_dict:\n",
    "            count_subjects_dict[df.subjects[i][j]] += 1\n",
    "        else:\n",
    "            count_subjects_dict[df.subjects[i][j]] = 1\n",
    "\n",
    "subjects_dict = {}\n",
    "for key in count_subjects_dict:\n",
    "    subjects_dict[key] = find_subject_in_bills(key)\n",
    "\n",
    "\n",
    "#verifies that the find_subject_in_bills function works\n",
    "print count_subjects_dict['Texas']\n",
    "print find_subject_in_bills('Texas').count(1)\n",
    "\n",
    "subjects_df = pd.DataFrame(data=subjects_dict)"
   ]
  },
  {
   "cell_type": "code",
   "execution_count": 3,
   "metadata": {
    "collapsed": false
   },
   "outputs": [],
   "source": [
    "final = pd.concat([df, subjects_df], axis=1)\n",
    "final = final.drop('subjects', axis=1)\n",
    "final = final.drop('', axis=1)\n",
    "final.to_csv('rollCallVotes_cleaned.csv', index=False)"
   ]
  }
 ],
 "metadata": {
  "kernelspec": {
   "display_name": "Python 2",
   "language": "python",
   "name": "python2"
  },
  "language_info": {
   "codemirror_mode": {
    "name": "ipython",
    "version": 2
   },
   "file_extension": ".py",
   "mimetype": "text/x-python",
   "name": "python",
   "nbconvert_exporter": "python",
   "pygments_lexer": "ipython2",
   "version": "2.7.11"
  }
 },
 "nbformat": 4,
 "nbformat_minor": 0
}
