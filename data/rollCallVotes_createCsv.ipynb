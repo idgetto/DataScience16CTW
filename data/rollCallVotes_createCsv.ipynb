{
 "cells": [
  {
   "cell_type": "code",
   "execution_count": 1,
   "metadata": {
    "collapsed": true
   },
   "outputs": [],
   "source": [
    "from lxml import etree\n",
    "import time\n",
    "#399 is the max number for this session\n",
    "tree = etree.parse('http://www.senate.gov/legislative/LIS/roll_call_votes/vote1141/vote_114_1_00001.xml')\n",
    "\n",
    "vote_date = tree.findall(\"vote_date\")[0].text\n",
    "vote_result = tree.findall(\"vote_result\")[0].text\n",
    "bill_title = tree.findall(\"document\")[0][5].text\n",
    "if not bill_title:\n",
    "    bill_title = \"Amendment to \" + tree.findall(\"amendment\")[0][4].text\n",
    "\n",
    "vote_dict = {'voteDate': [vote_date], 'title': [bill_title], 'voteResult': [vote_result]}\n",
    "for senator in tree.getiterator(\"member\"):\n",
    "    vote_dict[senator[2].text + \" \" + senator[0].text] = [senator[5].text]\n",
    "\n",
    "#initializes dictionary\n",
    "\n",
    "for i in range(2, 340):\n",
    "    url = \"http://www.senate.gov/legislative/LIS/roll_call_votes/vote1141/vote_114_1_\" + '{0:05d}'.format(i) + '.xml'\n",
    "    tree = etree.parse(url)\n",
    "    vote_date = tree.findall(\"vote_date\")[0].text\n",
    "    vote_result = tree.findall(\"vote_result\")[0].text\n",
    "    bill_title = tree.findall(\"document\")[0][5].text\n",
    "    if not bill_title:\n",
    "        if not tree.findall(\"amendment\")[0][4].text:\n",
    "            bill_title = \"Bro I have no idea what this is about\"\n",
    "        else: \n",
    "            bill_title = \"Amendment to \" + tree.findall(\"amendment\")[0][4].text\n",
    "    vote_dict['voteDate'].append(vote_date)\n",
    "    vote_dict['title'].append(bill_title)\n",
    "    vote_dict['voteResult'].append(vote_result)\n",
    "    for senator in tree.getiterator(\"member\"):\n",
    "        vote_dict[senator[2].text + \" \" + senator[0].text].append(senator[5].text)\n",
    "    time.sleep(0.5)"
   ]
  },
  {
   "cell_type": "code",
   "execution_count": 2,
   "metadata": {
    "collapsed": false
   },
   "outputs": [
    {
     "name": "stdout",
     "output_type": "stream",
     "text": [
      "339\n"
     ]
    }
   ],
   "source": [
    "print len(vote_dict['voteDate'])"
   ]
  },
  {
   "cell_type": "code",
   "execution_count": 3,
   "metadata": {
    "collapsed": false
   },
   "outputs": [],
   "source": [
    "import pandas as pd\n",
    "df = pd.DataFrame(data=vote_dict)\n",
    "df.to_csv('rollCallVotes_iter1.csv')"
   ]
  }
 ],
 "metadata": {
  "kernelspec": {
   "display_name": "Python 2",
   "language": "python",
   "name": "python2"
  },
  "language_info": {
   "codemirror_mode": {
    "name": "ipython",
    "version": 2
   },
   "file_extension": ".py",
   "mimetype": "text/x-python",
   "name": "python",
   "nbconvert_exporter": "python",
   "pygments_lexer": "ipython2",
   "version": "2.7.11"
  }
 },
 "nbformat": 4,
 "nbformat_minor": 0
}
