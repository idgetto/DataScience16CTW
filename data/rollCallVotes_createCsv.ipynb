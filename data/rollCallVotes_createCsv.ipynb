{
 "cells": [
  {
   "cell_type": "code",
   "execution_count": 8,
   "metadata": {
    "collapsed": false
   },
   "outputs": [
    {
     "name": "stdout",
     "output_type": "stream",
     "text": [
      "[u'Administrative law and regulatory procedures', u'Advisory bodies', u'Banking and financial institutions regulation', u'Business records', u'Civil actions and liability', u'Commodities markets', u'Congressional oversight', u'Consumer affairs', u'Criminal justice information and records', u'Department of the Treasury', u'Disaster relief and insurance', u'Federal Reserve System', u'Federal officials', u'Federal preemption', u'Finance and Financial Sector', u'Financial services and investments', u'Government corporations and government-sponsored enterprises', u'Government studies and investigations', u'Insurance industry and regulation', u'Licensing and registrations', u'Life, casualty, property insurance', u'Performance measurement', u'Securities', u'Small business', u'State and local government operations', u'Terrorism']\n"
     ]
    }
   ],
   "source": [
    "import urllib2\n",
    "from bs4 import BeautifulSoup as Soup\n",
    "from lxml import etree\n",
    "import time\n",
    "import pandas as pd\n",
    "import re\n",
    "\n",
    "def get_all_subjects(url):\n",
    "    res = []\n",
    "    res += get_subjects(url)\n",
    "    while has_next_page(url):\n",
    "        new_url = url[0:len(url)-1] + str(int(url[len(url)-1])+1)\n",
    "        res += get_subjects(new_url)\n",
    "        url = new_url\n",
    "    return res\n",
    "        \n",
    "def has_next_page(url):\n",
    "    page = urllib2.urlopen(url)\n",
    "    soup = Soup(page)\n",
    "    if soup.find_all('a', {\"href\": url[0:len(url)-1] + str(int(url[len(url)-1])+1)}):\n",
    "        return True\n",
    "    else:\n",
    "        return False\n",
    "\n",
    "def get_subjects(url):\n",
    "    page = urllib2.urlopen(url)\n",
    "    soup = Soup(page)\n",
    "    sections = soup.find_all('ul', {\"class\": \"plain margin7\"})\n",
    "    res = []\n",
    "    for section in sections:\n",
    "        for listelement in section.findAll('li'):\n",
    "            res.append(listelement.get_text())\n",
    "    return res\n",
    "    \n",
    "def find_bill_subjects(billName):\n",
    "    if billName[0:2] == \"PN\":\n",
    "        return []\n",
    "    else:\n",
    "        bill = billName.split()\n",
    "        if bill[0] == 'H.R.':\n",
    "            url = \"https://www.congress.gov/bill/114th-congress/house-bill/\" + bill[1] + \"/subjects?page=1\"\n",
    "            return get_all_subjects(url)\n",
    "        elif bill[0] == 'S.':\n",
    "            url = \"https://www.congress.gov/bill/114th-congress/senate-bill/\" + bill[1] + \"/subjects?page=1\"\n",
    "            return get_all_subjects(url)\n",
    "        elif bill[0] == 'S.J.Res.':\n",
    "            url = \"https://www.congress.gov/bill/114th-congress/senate-joint-resolution/\" + bill[1] + \"/subjects?page=1\"\n",
    "            return get_all_subjects(url)\n",
    "        elif bill[0] == 'H.J.Res.':\n",
    "            url = \"https://www.congress.gov/bill/114th-congress/house-joint-resolution/\" + bill[1] + \"/subjects?page=1\"\n",
    "            return get_all_subjects(url)\n",
    "        elif bill[0] == 'S.Con.Res.':\n",
    "            url = \"https://www.congress.gov/bill/114th-congress/senate-concurrent-resolution/\" + bill[1] + \"/subjects?page=1\"\n",
    "            return get_all_subjects(url)\n",
    "            \n",
    "print find_bill_subjects(\"H.R. 26\")"
   ]
  },
  {
   "cell_type": "code",
   "execution_count": 9,
   "metadata": {
    "collapsed": false
   },
   "outputs": [
    {
     "name": "stdout",
     "output_type": "stream",
     "text": [
      "Warren (D-MA)\n"
     ]
    }
   ],
   "source": [
    "def get_bill_sponsor(url):\n",
    "    page = urllib2.urlopen(url)\n",
    "    soup = Soup(page)\n",
    "    sponsor_dirty =  soup.find('th', text = re.compile('Sponsor:'), attrs = {\"scope\": \"row\"}).findNext('td').find('a').text.split()\n",
    "    sponsor_clean = sponsor_dirty[1][:-1] + \" (\" + sponsor_dirty[len(sponsor_dirty)-1][1:5] + \")\"\n",
    "    return sponsor_clean\n",
    "\n",
    "def find_bill_sponsor(billTitle):\n",
    "    if billTitle[0:2] == \"PN\":\n",
    "        return \"No sponsor\"\n",
    "    else:\n",
    "        bill = billTitle.split()\n",
    "        if bill[0] == 'H.R.':\n",
    "            url = \"https://www.congress.gov/bill/114th-congress/house-bill/\" + bill[1]\n",
    "            return get_bill_sponsor(url)\n",
    "        elif bill[0] == 'S.':\n",
    "            url = \"https://www.congress.gov/bill/114th-congress/senate-bill/\" + bill[1]\n",
    "            return get_bill_sponsor(url)\n",
    "        elif bill[0] == 'S.J.Res.':\n",
    "            url = \"https://www.congress.gov/bill/114th-congress/senate-joint-resolution/\" + bill[1]\n",
    "            return get_bill_sponsor(url)\n",
    "        elif bill[0] == 'H.J.Res.':\n",
    "            url = \"https://www.congress.gov/bill/114th-congress/house-joint-resolution/\" + bill[1]\n",
    "            return get_bill_sponsor(url)\n",
    "        elif bill[0] == 'S.Con.Res.':\n",
    "            url = \"https://www.congress.gov/bill/114th-congress/senate-concurrent-resolution/\" + bill[1]\n",
    "            return get_bill_sponsor(url)\n",
    "        elif bill[0] == 'S.Amdt.':\n",
    "            url = \"https://www.congress.gov/amendment/114th-congress/senate-amendment/\" + bill[1]\n",
    "            return get_bill_sponsor(url)\n",
    "\n",
    "print find_bill_sponsor('S.Amdt. 1')"
   ]
  },
  {
   "cell_type": "code",
   "execution_count": 10,
   "metadata": {
    "collapsed": false
   },
   "outputs": [
    {
     "name": "stdout",
     "output_type": "stream",
     "text": [
      "10\n",
      "20\n",
      "30\n",
      "40\n",
      "50\n",
      "60\n",
      "70\n",
      "80\n",
      "90\n",
      "100\n",
      "110\n",
      "120\n",
      "130\n",
      "140\n",
      "150\n",
      "160\n",
      "170\n",
      "180\n",
      "190\n",
      "200\n",
      "210\n",
      "220\n",
      "230\n",
      "240\n",
      "250\n",
      "260\n",
      "270\n",
      "280\n",
      "290\n",
      "300\n",
      "310\n",
      "320\n",
      "330\n",
      "339\n"
     ]
    }
   ],
   "source": [
    "#339 is the max number for this session\n",
    "tree = etree.parse('http://www.senate.gov/legislative/LIS/roll_call_votes/vote1141/vote_114_1_00001.xml')\n",
    "\n",
    "vote_date = tree.findall(\"vote_date\")[0].text\n",
    "vote_result = tree.findall(\"vote_result\")[0].text\n",
    "vote_title = tree.findall(\"document\")[0][3].text\n",
    "if vote_title:\n",
    "    subjects = find_bill_subjects(vote_title)\n",
    "    bill_title = vote_title\n",
    "    sponsor = find_bill_sponsor(bill_title)\n",
    "elif not vote_title:\n",
    "    vote_title = \"Amendment to \" + tree.findall(\"amendment\")[0][3].text\n",
    "    subjects = find_bill_subjects(tree.findall(\"amendment\")[0][3].text)\n",
    "    bill_title = tree.findall(\"amendment\")[0][0].text\n",
    "    sponsor = find_bill_sponsor(bill_title)\n",
    "    if not vote_title:\n",
    "        subjects = find_bill_subjects(\"PN\")\n",
    "        sponsor = find_bill_sponsor(\"PN\")\n",
    "        bill_title = \"Bro I have no idea what this about\"\n",
    "        vote_title = \"Bro I have no idea what this about\"\n",
    "\n",
    "vote_dict = {'voteDate': [vote_date], 'title': [vote_title], 'voteResult': [vote_result], 'subjects': [subjects], \n",
    "             'billTitle': [bill_title], 'sponsor': [sponsor]}\n",
    "for senator in tree.getiterator(\"member\"):\n",
    "    vote_dict[senator[0].text] = [senator[5].text]\n",
    "    \n",
    "#initializes dictionary\n",
    "\n",
    "for i in range(2, 340): #339 is the max number of bills in this session of Congress\n",
    "    if i % 10 == 0:\n",
    "        print i\n",
    "    url = \"http://www.senate.gov/legislative/LIS/roll_call_votes/vote1141/vote_114_1_\" + '{0:05d}'.format(i) + '.xml'\n",
    "    tree = etree.parse(url)\n",
    "    vote_date = tree.findall(\"vote_date\")[0].text\n",
    "    vote_result = tree.findall(\"vote_result\")[0].text\n",
    "    vote_title = tree.findall(\"document\")[0][3].text\n",
    "    if vote_title:\n",
    "        bill_title = vote_title\n",
    "        subjects = find_bill_subjects(vote_title)\n",
    "        sponsor = find_bill_sponsor(bill_title)\n",
    "    elif not vote_title:\n",
    "        vote_title = \"Amendment to \" + tree.findall(\"amendment\")[0][3].text\n",
    "        subjects = find_bill_subjects(tree.findall(\"amendment\")[0][3].text)\n",
    "        bill_title = tree.findall(\"amendment\")[0][0].text\n",
    "        sponsor = find_bill_sponsor(bill_title)\n",
    "        if not vote_title:\n",
    "            subjects = find_bill_subjects(\"PN\")\n",
    "            sponsor = find_bill_sponsor(\"PN\")\n",
    "            bill_title = \"Bro I have no idea what this about\"\n",
    "            vote_title = \"Bro I have no idea what this about\"\n",
    "    vote_dict['voteDate'].append(vote_date)\n",
    "    vote_dict['title'].append(vote_title)\n",
    "    vote_dict['voteResult'].append(vote_result)\n",
    "    vote_dict['subjects'].append(subjects)\n",
    "    vote_dict['billTitle'].append(bill_title)\n",
    "    vote_dict['sponsor'].append(sponsor)\n",
    "    for senator in tree.getiterator(\"member\"):\n",
    "        vote_dict[senator[0].text].append(senator[5].text)\n",
    "    time.sleep(1)\n",
    "    \n",
    "print len(vote_dict['sponsor'])"
   ]
  },
  {
   "cell_type": "code",
   "execution_count": 11,
   "metadata": {
    "collapsed": false
   },
   "outputs": [],
   "source": [
    "df = pd.DataFrame(data=vote_dict)\n",
    "df.to_csv('rollCallVotes_iter4.csv', index=False)"
   ]
  },
  {
   "cell_type": "code",
   "execution_count": null,
   "metadata": {
    "collapsed": true
   },
   "outputs": [],
   "source": []
  }
 ],
 "metadata": {
  "kernelspec": {
   "display_name": "Python 2",
   "language": "python",
   "name": "python2"
  },
  "language_info": {
   "codemirror_mode": {
    "name": "ipython",
    "version": 2
   },
   "file_extension": ".py",
   "mimetype": "text/x-python",
   "name": "python",
   "nbconvert_exporter": "python",
   "pygments_lexer": "ipython2",
   "version": "2.7.11"
  }
 },
 "nbformat": 4,
 "nbformat_minor": 0
}
